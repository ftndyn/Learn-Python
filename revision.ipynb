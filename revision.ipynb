{
 "cells": [
  {
   "cell_type": "markdown",
   "metadata": {},
   "source": [
    "# Exercise 3\n",
    "Write a small program about the Order Food Menu."
   ]
  },
  {
   "cell_type": "code",
   "execution_count": 8,
   "metadata": {},
   "outputs": [],
   "source": [
    "charlen, rightjust, leftjust = 40, 5, 20\n",
    "title = \"MENU\"\n",
    "food_menu = [\"Spagetthi Bolognese\",\"Aglio Olio\", \"Curry\",\"Juice\",\"Milo Ice\",\"Coffee\"]\n",
    "food_price = [12,12,5,3,2,2]"
   ]
  },
  {
   "cell_type": "code",
   "execution_count": 23,
   "metadata": {},
   "outputs": [],
   "source": [
    "def menu():\n",
    "    print(title.center(charlen, \"=\"))\n",
    "    i = 0\n",
    "    for menu in food_menu:\n",
    "        if i < len(food_menu):\n",
    "            print(f'{i+1}.{menu.ljust(leftjust, \".\")} RM {{%.2f}} % food_price[i]')\n",
    "            i+=1\n"
   ]
  },
  {
   "cell_type": "code",
   "execution_count": null,
   "metadata": {},
   "outputs": [],
   "source": [
    "def discPrice(price):\n",
    "    discountPrice = round((price * 0.90), 2)\n",
    "    return discountPrice\n"
   ]
  },
  {
   "cell_type": "code",
   "execution_count": 24,
   "metadata": {},
   "outputs": [
    {
     "name": "stdout",
     "output_type": "stream",
     "text": [
      "==================MENU==================\n",
      "1.Spagetthi Bolognese. RM {%.2f} % food_price[i]\n",
      "2.Aglio Olio.......... RM {%.2f} % food_price[i]\n",
      "3.Curry............... RM {%.2f} % food_price[i]\n",
      "4.Juice............... RM {%.2f} % food_price[i]\n",
      "5.Milo Ice............ RM {%.2f} % food_price[i]\n",
      "6.Coffee.............. RM {%.2f} % food_price[i]\n"
     ]
    }
   ],
   "source": [
    "menu()"
   ]
  },
  {
   "cell_type": "code",
   "execution_count": 29,
   "metadata": {},
   "outputs": [
    {
     "name": "stdout",
     "output_type": "stream",
     "text": [
      "Please enter a valid response\n"
     ]
    }
   ],
   "source": [
    "foodOrder = []\n",
    "foodCost = []\n",
    "foodQuantity = []\n",
    "totalPrice, counter = 0, 0\n",
    "nextOrder = True\n",
    "while nextOrder == True:\n",
    "    numOrder = input(\"Please select the order using number on the list. \\nPress c to checkout.\\nPress m to display menu\")\n",
    "    if numOrder.isdigit() and int(numOrder) >= 1 and int(numOrder) <=6:\n",
    "        quantity = int(input(f\"how many portions of {food_menu[int(numOrder)-1]} would you like?\"))\n",
    "        foodOrder.append(food_menu[int(numOrder)-1])\n",
    "        foodCost.append(food_price[int(numOrder)-1])\n",
    "        foodQuantity.append(quantity) \n",
    "        totalPrice += food_price[int(numOrder)-1] * quantity\n",
    "        counter += 1\n",
    "    elif numOrder.lower() == 'c':\n",
    "        numOrder = False\n",
    "    elif numOrder.lower() == 'm':\n",
    "        menu()\n",
    "    else:\n",
    "        print(\"Please enter a valid response\")\n",
    "        continue\n"
   ]
  }
 ],
 "metadata": {
  "kernelspec": {
   "display_name": "Python 3",
   "language": "python",
   "name": "python3"
  },
  "language_info": {
   "codemirror_mode": {
    "name": "ipython",
    "version": 3
   },
   "file_extension": ".py",
   "mimetype": "text/x-python",
   "name": "python",
   "nbconvert_exporter": "python",
   "pygments_lexer": "ipython3",
   "version": "3.9.13"
  }
 },
 "nbformat": 4,
 "nbformat_minor": 2
}
