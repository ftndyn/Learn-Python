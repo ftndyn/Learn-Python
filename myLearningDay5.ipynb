{
 "cells": [
  {
   "cell_type": "markdown",
   "metadata": {},
   "source": [
    "# LISTS"
   ]
  },
  {
   "cell_type": "markdown",
   "metadata": {},
   "source": [
    "Copy List"
   ]
  },
  {
   "cell_type": "markdown",
   "metadata": {},
   "source": [
    "copy()"
   ]
  },
  {
   "cell_type": "code",
   "execution_count": 4,
   "metadata": {},
   "outputs": [
    {
     "name": "stdout",
     "output_type": "stream",
     "text": [
      "['Windows', 'Linux', 'macOS', 'android', 'ios', 'Windows Phone']\n"
     ]
    }
   ],
   "source": [
    "os_list = list(('Windows', 'Linux', 'macOS'))\n",
    "mobileOS_list = ['android', 'ios', 'Windows Phone']\n",
    "\n",
    "os_list.extend(mobileOS_list)\n",
    "print(os_list)\n"
   ]
  },
  {
   "cell_type": "code",
   "execution_count": 7,
   "metadata": {},
   "outputs": [
    {
     "name": "stdout",
     "output_type": "stream",
     "text": [
      "['Windows', 'Linux', 'android', 'ios', 'Windows Phone']\n",
      "['Windows', 'Linux', 'macOS', 'android', 'ios', 'Windows Phone']\n"
     ]
    }
   ],
   "source": [
    "mylist = list(os_list)\n",
    "ref_list = mylist\n",
    "del mylist[2]\n",
    "print(mylist)\n",
    "copylist = os_list.copy()\n",
    "print(copylist)"
   ]
  },
  {
   "cell_type": "markdown",
   "metadata": {},
   "source": [
    "Join Lists"
   ]
  },
  {
   "cell_type": "code",
   "execution_count": 8,
   "metadata": {},
   "outputs": [
    {
     "name": "stdout",
     "output_type": "stream",
     "text": [
      "['Machine Learning', 'Deep Learning', 'AI', 90, 80, 78]\n"
     ]
    }
   ],
   "source": [
    "myList = ['Machine Learning', 'Deep Learning', 'AI']\n",
    "markList = [90,80,78]\n",
    "joinList = myList + markList\n",
    "print(joinList)"
   ]
  },
  {
   "cell_type": "markdown",
   "metadata": {},
   "source": [
    "append()"
   ]
  },
  {
   "cell_type": "code",
   "execution_count": 11,
   "metadata": {},
   "outputs": [
    {
     "name": "stdout",
     "output_type": "stream",
     "text": [
      "['Machine Learning', 'Deep Learning', 'AI', 90, 80, 78, 90, 80, 78, 90, 80, 78]\n"
     ]
    }
   ],
   "source": [
    "for x in markList:\n",
    "    myList.append(x)\n",
    "print(myList)"
   ]
  },
  {
   "cell_type": "markdown",
   "metadata": {},
   "source": [
    "extend ()"
   ]
  },
  {
   "cell_type": "code",
   "execution_count": 12,
   "metadata": {},
   "outputs": [
    {
     "name": "stdout",
     "output_type": "stream",
     "text": [
      "['Machine Learning', 'Deep Learning', 'AI', 90, 80, 78, 90, 80, 78, 90, 80, 78, 90, 80, 78]\n"
     ]
    }
   ],
   "source": [
    "myList.extend(markList)\n",
    "print(myList)"
   ]
  },
  {
   "cell_type": "markdown",
   "metadata": {},
   "source": [
    "# Tuple"
   ]
  },
  {
   "cell_type": "markdown",
   "metadata": {},
   "source": [
    "unchangeable, ordered, allow duplicates, use '()'"
   ]
  },
  {
   "cell_type": "code",
   "execution_count": 16,
   "metadata": {},
   "outputs": [
    {
     "name": "stdout",
     "output_type": "stream",
     "text": [
      "('ML', 'DL', 'NLP', 'AI', 'NLP')\n",
      "<class 'tuple'>\n"
     ]
    }
   ],
   "source": [
    "myTuple = (\"ML\", \"DL\", \"NLP\", \"AI\", \"NLP\")\n",
    "print(myTuple)\n",
    "print(type(myTuple))"
   ]
  },
  {
   "cell_type": "code",
   "execution_count": 21,
   "metadata": {},
   "outputs": [
    {
     "name": "stdout",
     "output_type": "stream",
     "text": [
      "<class 'tuple'>\n",
      "<class 'tuple'>\n"
     ]
    }
   ],
   "source": [
    "aTuple = (\"ML\",)\n",
    "bTuple = tuple(\"DL\")\n",
    "print(type(aTuple))\n",
    "print(type(bTuple))"
   ]
  },
  {
   "cell_type": "code",
   "execution_count": 19,
   "metadata": {},
   "outputs": [
    {
     "name": "stdout",
     "output_type": "stream",
     "text": [
      "('DL', 80, True, 'Correct')\n",
      "<class 'tuple'>\n"
     ]
    }
   ],
   "source": [
    "manyType = (\"DL\", 80, True, \"Correct\")\n",
    "print(manyType)\n",
    "print(type(manyType))"
   ]
  },
  {
   "cell_type": "markdown",
   "metadata": {},
   "source": [
    "Index Access"
   ]
  },
  {
   "cell_type": "code",
   "execution_count": 22,
   "metadata": {},
   "outputs": [
    {
     "name": "stdout",
     "output_type": "stream",
     "text": [
      "NLP\n"
     ]
    }
   ],
   "source": [
    "print(myTuple[2])"
   ]
  },
  {
   "cell_type": "code",
   "execution_count": 24,
   "metadata": {},
   "outputs": [
    {
     "name": "stdout",
     "output_type": "stream",
     "text": [
      "Yes\n"
     ]
    }
   ],
   "source": [
    "if \"AI\" in myTuple: print(\"Yes\")"
   ]
  },
  {
   "cell_type": "markdown",
   "metadata": {},
   "source": [
    ".append()"
   ]
  },
  {
   "cell_type": "code",
   "execution_count": 111,
   "metadata": {},
   "outputs": [
    {
     "name": "stdout",
     "output_type": "stream",
     "text": [
      "('ML', 'DL', 'NLP', 'AI', 'NN', 'Others')\n"
     ]
    }
   ],
   "source": [
    "myTuple = (\"ML\", \"DL\", \"NLP\", \"AI\", \"NLP\")\n",
    "convertToList = list(myTuple)\n",
    "convertToList[4] = 'NN'\n",
    "convertToList.append(\"Others\")\n",
    "myTuple = tuple(convertToList)\n",
    "print(myTuple)\n"
   ]
  },
  {
   "cell_type": "code",
   "execution_count": 113,
   "metadata": {},
   "outputs": [
    {
     "name": "stdout",
     "output_type": "stream",
     "text": [
      "('ML', 'DL', 'AI')\n"
     ]
    }
   ],
   "source": [
    "myTuple = (\"ML\", \"DL\", \"NLP\", \"AI\", \"NLP\")\n",
    "convertToList = list(myTuple)\n",
    "convertToList.remove(\"NLP\")\n",
    "convertToList.remove(\"NLP\")\n",
    "myTuple = tuple(convertToList)\n",
    "print(myTuple)"
   ]
  },
  {
   "cell_type": "code",
   "execution_count": 109,
   "metadata": {},
   "outputs": [
    {
     "name": "stdout",
     "output_type": "stream",
     "text": [
      "('ML', 'DL', 'NLP', 'AI', 'NLP', 'Others')\n"
     ]
    }
   ],
   "source": [
    "myTuple = (\"ML\", \"DL\", \"NLP\", \"AI\", \"NLP\")\n",
    "addTuple = (\"Others\",)\n",
    "myTuple += addTuple\n",
    "print(myTuple)"
   ]
  },
  {
   "cell_type": "code",
   "execution_count": 116,
   "metadata": {},
   "outputs": [
    {
     "ename": "NameError",
     "evalue": "name 'myTuple' is not defined",
     "output_type": "error",
     "traceback": [
      "\u001b[1;31m---------------------------------------------------------------------------\u001b[0m",
      "\u001b[1;31mNameError\u001b[0m                                 Traceback (most recent call last)",
      "Cell \u001b[1;32mIn[116], line 3\u001b[0m\n\u001b[0;32m      1\u001b[0m myTuple \u001b[38;5;241m=\u001b[39m (\u001b[38;5;124m\"\u001b[39m\u001b[38;5;124mML\u001b[39m\u001b[38;5;124m\"\u001b[39m, \u001b[38;5;124m\"\u001b[39m\u001b[38;5;124mDL\u001b[39m\u001b[38;5;124m\"\u001b[39m, \u001b[38;5;124m\"\u001b[39m\u001b[38;5;124mNLP\u001b[39m\u001b[38;5;124m\"\u001b[39m, \u001b[38;5;124m\"\u001b[39m\u001b[38;5;124mAI\u001b[39m\u001b[38;5;124m\"\u001b[39m, \u001b[38;5;124m\"\u001b[39m\u001b[38;5;124mNLP\u001b[39m\u001b[38;5;124m\"\u001b[39m)\n\u001b[0;32m      2\u001b[0m \u001b[38;5;28;01mdel\u001b[39;00m myTuple\n\u001b[1;32m----> 3\u001b[0m \u001b[38;5;28mprint\u001b[39m(\u001b[43mmyTuple\u001b[49m)\n",
      "\u001b[1;31mNameError\u001b[0m: name 'myTuple' is not defined"
     ]
    }
   ],
   "source": [
    "myTuple = (\"ML\", \"DL\", \"NLP\", \"AI\", \"NLP\")\n",
    "del myTuple\n",
    "print(myTuple)"
   ]
  },
  {
   "cell_type": "code",
   "execution_count": 120,
   "metadata": {},
   "outputs": [
    {
     "name": "stdout",
     "output_type": "stream",
     "text": [
      "ML\n",
      "['DL', 'NLP', 'AI', 'NLP']\n"
     ]
    }
   ],
   "source": [
    "# Unpack\n",
    "subject = (\"ML\", \"DL\", \"NLP\", \"AI\", \"NLP\")\n",
    "(ML2, *AI2) = subject\n",
    "print(ML2)\n",
    "print(AI2)"
   ]
  },
  {
   "cell_type": "markdown",
   "metadata": {},
   "source": [
    "Join Tuple"
   ]
  },
  {
   "cell_type": "code",
   "execution_count": 123,
   "metadata": {},
   "outputs": [
    {
     "name": "stdout",
     "output_type": "stream",
     "text": [
      "('Nasi', 'Ikan', 'ML', 'DL', 'NLP', 'AI', 'NLP')\n"
     ]
    }
   ],
   "source": [
    "food = (\"Nasi\", \"Ikan\")\n",
    "joinTuple = food + subject\n",
    "print(joinTuple)"
   ]
  },
  {
   "cell_type": "code",
   "execution_count": 124,
   "metadata": {},
   "outputs": [
    {
     "name": "stdout",
     "output_type": "stream",
     "text": [
      "('Machine Learning', 'Deep Learning', 'AI', 'Machine Learning', 'Deep Learning', 'AI')\n"
     ]
    }
   ],
   "source": [
    "myTuple = ('Machine Learning', 'Deep Learning', 'AI' )\n",
    "multiple = myTuple * 2\n",
    "print(multiple)"
   ]
  },
  {
   "cell_type": "code",
   "execution_count": 125,
   "metadata": {},
   "outputs": [
    {
     "name": "stdout",
     "output_type": "stream",
     "text": [
      "2\n"
     ]
    }
   ],
   "source": [
    "subject = (\"ML\", \"DL\", \"NLP\", \"AI\", \"NLP\")\n",
    "\n",
    "print(subject.index(\"NLP\"))"
   ]
  },
  {
   "cell_type": "markdown",
   "metadata": {},
   "source": [
    "# DICTIONARY"
   ]
  },
  {
   "cell_type": "markdown",
   "metadata": {},
   "source": [
    "Ordered, Changeable, Does not allow duplicates, {}"
   ]
  },
  {
   "cell_type": "code",
   "execution_count": 27,
   "metadata": {},
   "outputs": [
    {
     "name": "stdout",
     "output_type": "stream",
     "text": [
      "{'brand': 'Ford', 'model': 'Mustang', 'year': 1964}\n"
     ]
    }
   ],
   "source": [
    "thisdict = {\n",
    "    \"brand\": \"Ford\",\n",
    "    \"model\": \"Mustang\",\n",
    "    \"year\": 1964\n",
    "}\n",
    "print(thisdict)"
   ]
  },
  {
   "cell_type": "markdown",
   "metadata": {},
   "source": [
    "Specify an item"
   ]
  },
  {
   "cell_type": "code",
   "execution_count": 28,
   "metadata": {},
   "outputs": [
    {
     "name": "stdout",
     "output_type": "stream",
     "text": [
      "Ford\n"
     ]
    }
   ],
   "source": [
    "thisdict = {\n",
    "    \"brand\": \"Ford\",\n",
    "    \"model\": \"Mustang\",\n",
    "    \"year\": 1964\n",
    "}\n",
    "print(thisdict[\"brand\"])"
   ]
  },
  {
   "cell_type": "markdown",
   "metadata": {},
   "source": [
    "Duplicates not allowed"
   ]
  },
  {
   "cell_type": "code",
   "execution_count": 29,
   "metadata": {},
   "outputs": [
    {
     "name": "stdout",
     "output_type": "stream",
     "text": [
      "{'brand': 'Ford', 'model': 'Mustang', 'year': 2020}\n"
     ]
    }
   ],
   "source": [
    "thisdict = {\n",
    "    \"brand\": \"Ford\",\n",
    "    \"model\": \"Mustang\",\n",
    "    \"year\": 1964,\n",
    "    \"year\": 2020\n",
    "}\n",
    "print(thisdict)"
   ]
  },
  {
   "cell_type": "markdown",
   "metadata": {},
   "source": [
    "Dictionary Length"
   ]
  },
  {
   "cell_type": "code",
   "execution_count": 30,
   "metadata": {},
   "outputs": [
    {
     "name": "stdout",
     "output_type": "stream",
     "text": [
      "3\n"
     ]
    }
   ],
   "source": [
    "print(len(thisdict))"
   ]
  },
  {
   "cell_type": "markdown",
   "metadata": {},
   "source": [
    "Dictionary Items - Data Types"
   ]
  },
  {
   "cell_type": "code",
   "execution_count": 105,
   "metadata": {},
   "outputs": [
    {
     "name": "stdout",
     "output_type": "stream",
     "text": [
      "{'brand': 'Ford', 'electric': False, 'year': 1964, 'colors': ['red', 'white', 'blue'], 'versions': ['full', 'semi', 'basic'], 'type': ['Auto', 'Manual']}\n"
     ]
    }
   ],
   "source": [
    "thisdict = {\n",
    "    \"brand\": \"Ford\",\n",
    "    \"electric\": False,\n",
    "    \"year\": 1964,\n",
    "    \"colors\": [\"red\", \"white\",\"blue\"],\n",
    "    \"versions\": [\"full\", \"semi\",\"basic\"],\n",
    "    \"type\": [\"Auto\", \"Manual\"]\n",
    "}\n",
    "\n",
    "print(thisdict)"
   ]
  },
  {
   "cell_type": "code",
   "execution_count": 37,
   "metadata": {},
   "outputs": [
    {
     "name": "stdout",
     "output_type": "stream",
     "text": [
      "<class 'dict'>\n"
     ]
    }
   ],
   "source": [
    "thisdict = {\n",
    "    \"brand\": \"Ford\",\n",
    "    \"model\": \"Mustang\",\n",
    "    \"year\": 1964\n",
    "}\n",
    "print(type(thisdict))"
   ]
  },
  {
   "cell_type": "markdown",
   "metadata": {},
   "source": [
    "the dictionary constructor"
   ]
  },
  {
   "cell_type": "code",
   "execution_count": 40,
   "metadata": {},
   "outputs": [
    {
     "name": "stdout",
     "output_type": "stream",
     "text": [
      "{'name': 'Mohammed0', 'age': 33, 'country': 'Malaysia'}\n"
     ]
    }
   ],
   "source": [
    "thisdict = dict(name = \"Mohammed0\", age = 33, country = \"Malaysia\")\n",
    "print(thisdict)"
   ]
  },
  {
   "cell_type": "markdown",
   "metadata": {},
   "source": [
    "Access type"
   ]
  },
  {
   "cell_type": "code",
   "execution_count": 48,
   "metadata": {},
   "outputs": [
    {
     "name": "stdout",
     "output_type": "stream",
     "text": [
      "Mustang\n",
      "Ford\n"
     ]
    }
   ],
   "source": [
    "\n",
    "\n",
    "thisdict = {\n",
    "    \"brand\": \"Ford\",\n",
    "    \"model\": \"Mustang\",\n",
    "    \"year\": 1964\n",
    "}\n",
    "y = thisdict[\"brand\"]\n",
    "x = thisdict.get(\"model\")\n",
    "print(x)\n",
    "print(y)\n"
   ]
  },
  {
   "cell_type": "markdown",
   "metadata": {},
   "source": [
    "Add Key"
   ]
  },
  {
   "cell_type": "code",
   "execution_count": 54,
   "metadata": {},
   "outputs": [
    {
     "name": "stdout",
     "output_type": "stream",
     "text": [
      "dict_values(['Ford', 'Mustang', 1964])\n",
      "dict_values(['Ford', 'Mustang', 2020, 'white'])\n"
     ]
    }
   ],
   "source": [
    "car = {\n",
    "    \"brand\": \"Ford\",\n",
    "    \"model\": \"Mustang\",\n",
    "    \"year\": 1964,\n",
    "}\n",
    "x = car.values()\n",
    "\n",
    "print(x)\n",
    "\n",
    "car[\"colour\"] = \"white\"\n",
    "car[\"year\"] = 2020\n",
    "\n",
    "print(x)"
   ]
  },
  {
   "cell_type": "code",
   "execution_count": 55,
   "metadata": {},
   "outputs": [
    {
     "name": "stdout",
     "output_type": "stream",
     "text": [
      "dict_values(['Ford', 'Mustang', 1964])\n",
      "dict_values(['Ford', 'Mustang', 1964, 'red'])\n"
     ]
    }
   ],
   "source": [
    "car = {\n",
    "    \"brand\": \"Ford\",\n",
    "    \"model\": \"Mustang\",\n",
    "    \"year\": 1964,\n",
    "}\n",
    "x = car.values()\n",
    "\n",
    "print(x)\n",
    "\n",
    "car[\"colour\"] = \"red\"\n",
    "\n",
    "print(x)"
   ]
  },
  {
   "cell_type": "markdown",
   "metadata": {},
   "source": [
    "Edit Value"
   ]
  },
  {
   "cell_type": "code",
   "execution_count": 49,
   "metadata": {},
   "outputs": [
    {
     "name": "stdout",
     "output_type": "stream",
     "text": [
      "dict_values(['Ford', 'Mustang', 1964])\n",
      "dict_values(['Ford', 'Mustang', 202])\n"
     ]
    }
   ],
   "source": [
    "car = {\n",
    "    \"brand\": \"Ford\",\n",
    "    \"model\": \"Mustang\",\n",
    "    \"year\": 1964,\n",
    "}\n",
    "x = car.values()\n",
    "\n",
    "print(x)\n",
    "\n",
    "car[\"year\"] = 202\n",
    "\n",
    "print(x)"
   ]
  },
  {
   "cell_type": "markdown",
   "metadata": {},
   "source": [
    "Get Items"
   ]
  },
  {
   "cell_type": "code",
   "execution_count": 56,
   "metadata": {},
   "outputs": [
    {
     "name": "stdout",
     "output_type": "stream",
     "text": [
      "dict_items([('brand', 'Ford'), ('model', 'Mustang'), ('year', 1964)])\n"
     ]
    }
   ],
   "source": [
    "x = thisdict.items() # print key and values\n",
    "print(x)"
   ]
  },
  {
   "cell_type": "code",
   "execution_count": 59,
   "metadata": {},
   "outputs": [
    {
     "name": "stdout",
     "output_type": "stream",
     "text": [
      "dict_items([('brand', 'Ford'), ('model', 'Mustang'), ('year', 1964)])\n",
      "dict_items([('brand', 'Ford'), ('model', 'Mustang'), ('year', 2020), ('colour', 'red')])\n"
     ]
    }
   ],
   "source": [
    "car = {\n",
    "    \"brand\": \"Ford\",\n",
    "    \"model\": \"Mustang\",\n",
    "    \"year\": 1964,\n",
    "}\n",
    "x = car.items()\n",
    "\n",
    "print(x) # before the change\n",
    "\n",
    "car[\"colour\"] = 'red'\n",
    "car[\"year\"] = 2020\n",
    "\n",
    "print(x) # after change"
   ]
  },
  {
   "cell_type": "markdown",
   "metadata": {},
   "source": [
    "check if key exists"
   ]
  },
  {
   "cell_type": "code",
   "execution_count": 63,
   "metadata": {},
   "outputs": [
    {
     "name": "stdout",
     "output_type": "stream",
     "text": [
      "Yes, year is one of the key in the dictionary\n"
     ]
    }
   ],
   "source": [
    "thisdict = {\n",
    "    \"brand\": \"Ford\",\n",
    "    \"model\": \"Mustang\",\n",
    "    \"year\": 1964,\n",
    "}\n",
    "\n",
    "if \"year\" in thisdict:\n",
    "    print(\"Yes, year is one of the key in the dictionary\") # after change"
   ]
  },
  {
   "cell_type": "markdown",
   "metadata": {},
   "source": [
    "Change Items"
   ]
  },
  {
   "cell_type": "code",
   "execution_count": 66,
   "metadata": {},
   "outputs": [
    {
     "name": "stdout",
     "output_type": "stream",
     "text": [
      "{'brand': 'Kia', 'model': 'Mustang', 'year': 2018}\n"
     ]
    }
   ],
   "source": [
    "thisdict = {\n",
    "    \"brand\": \"Ford\",\n",
    "    \"model\": \"Mustang\",\n",
    "    \"year\": 1964,\n",
    "}\n",
    "thisdict[\"year\"] = 2018\n",
    "thisdict[\"brand\"] = \"Kia\"\n",
    "print(thisdict)"
   ]
  },
  {
   "cell_type": "markdown",
   "metadata": {},
   "source": [
    "Update dictionary"
   ]
  },
  {
   "cell_type": "code",
   "execution_count": 69,
   "metadata": {},
   "outputs": [
    {
     "name": "stdout",
     "output_type": "stream",
     "text": [
      "{'brand': 'Ford', 'model': 'Kia', 'year': 2020}\n"
     ]
    }
   ],
   "source": [
    "thisdict = {\n",
    "    \"brand\": \"Ford\",\n",
    "    \"model\": \"Mustang\",\n",
    "    \"year\": 1964,\n",
    "}\n",
    "thisdict.update({\"year\" : 2020, \"model\":\"Kia\"})\n",
    "print(thisdict)"
   ]
  },
  {
   "cell_type": "code",
   "execution_count": 70,
   "metadata": {},
   "outputs": [
    {
     "name": "stdout",
     "output_type": "stream",
     "text": [
      "{'brand': 'Ford', 'model': 'Mustang', 'year': 1964, 'colour': 'red'}\n"
     ]
    }
   ],
   "source": [
    "thisdict = {\n",
    "    \"brand\": \"Ford\",\n",
    "    \"model\": \"Mustang\",\n",
    "    \"year\": 1964,\n",
    "}\n",
    "thisdict.update({\"colour\" : \"red\"})\n",
    "print(thisdict)"
   ]
  },
  {
   "cell_type": "markdown",
   "metadata": {},
   "source": [
    "Removing Items"
   ]
  },
  {
   "cell_type": "markdown",
   "metadata": {},
   "source": [
    "pop() method"
   ]
  },
  {
   "cell_type": "code",
   "execution_count": 72,
   "metadata": {},
   "outputs": [
    {
     "name": "stdout",
     "output_type": "stream",
     "text": [
      "{'brand': 'Ford', 'year': 1964}\n"
     ]
    }
   ],
   "source": [
    "thisdict = {\n",
    "    \"brand\": \"Ford\",\n",
    "    \"model\": \"Mustang\",\n",
    "    \"year\": 1964,\n",
    "}\n",
    "thisdict.pop(\"model\", \"brand\") # can only change one item at a time\n",
    "print(thisdict)"
   ]
  },
  {
   "cell_type": "markdown",
   "metadata": {},
   "source": [
    "popitem() method"
   ]
  },
  {
   "cell_type": "code",
   "execution_count": 75,
   "metadata": {},
   "outputs": [
    {
     "name": "stdout",
     "output_type": "stream",
     "text": [
      "{'brand': 'Ford', 'model': 'Mustang'}\n"
     ]
    }
   ],
   "source": [
    "thisdict = {\n",
    "    \"brand\": \"Ford\",\n",
    "    \"model\": \"Mustang\",\n",
    "    \"year\": 1964,\n",
    "}\n",
    "thisdict.popitem() \n",
    "print(thisdict)"
   ]
  },
  {
   "cell_type": "markdown",
   "metadata": {},
   "source": [
    "Del keyword"
   ]
  },
  {
   "cell_type": "code",
   "execution_count": 78,
   "metadata": {},
   "outputs": [
    {
     "name": "stdout",
     "output_type": "stream",
     "text": [
      "{'brand': 'Ford', 'year': 1964}\n"
     ]
    }
   ],
   "source": [
    "thisdict = {\n",
    "    \"brand\": \"Ford\",\n",
    "    \"model\": \"Mustang\",\n",
    "    \"year\": 1964,\n",
    "}\n",
    "del thisdict[\"model\"]\n",
    "print(thisdict)"
   ]
  },
  {
   "cell_type": "markdown",
   "metadata": {},
   "source": [
    "del the whole thing"
   ]
  },
  {
   "cell_type": "code",
   "execution_count": 79,
   "metadata": {},
   "outputs": [
    {
     "ename": "NameError",
     "evalue": "name 'thisdict' is not defined",
     "output_type": "error",
     "traceback": [
      "\u001b[1;31m---------------------------------------------------------------------------\u001b[0m",
      "\u001b[1;31mNameError\u001b[0m                                 Traceback (most recent call last)",
      "Cell \u001b[1;32mIn[79], line 7\u001b[0m\n\u001b[0;32m      1\u001b[0m thisdict \u001b[38;5;241m=\u001b[39m {\n\u001b[0;32m      2\u001b[0m     \u001b[38;5;124m\"\u001b[39m\u001b[38;5;124mbrand\u001b[39m\u001b[38;5;124m\"\u001b[39m: \u001b[38;5;124m\"\u001b[39m\u001b[38;5;124mFord\u001b[39m\u001b[38;5;124m\"\u001b[39m,\n\u001b[0;32m      3\u001b[0m     \u001b[38;5;124m\"\u001b[39m\u001b[38;5;124mmodel\u001b[39m\u001b[38;5;124m\"\u001b[39m: \u001b[38;5;124m\"\u001b[39m\u001b[38;5;124mMustang\u001b[39m\u001b[38;5;124m\"\u001b[39m,\n\u001b[0;32m      4\u001b[0m     \u001b[38;5;124m\"\u001b[39m\u001b[38;5;124myear\u001b[39m\u001b[38;5;124m\"\u001b[39m: \u001b[38;5;241m1964\u001b[39m,\n\u001b[0;32m      5\u001b[0m }\n\u001b[0;32m      6\u001b[0m \u001b[38;5;28;01mdel\u001b[39;00m thisdict\n\u001b[1;32m----> 7\u001b[0m \u001b[38;5;28mprint\u001b[39m(\u001b[43mthisdict\u001b[49m)\n",
      "\u001b[1;31mNameError\u001b[0m: name 'thisdict' is not defined"
     ]
    }
   ],
   "source": [
    "thisdict = {\n",
    "    \"brand\": \"Ford\",\n",
    "    \"model\": \"Mustang\",\n",
    "    \"year\": 1964,\n",
    "}\n",
    "del thisdict\n",
    "print(thisdict)"
   ]
  },
  {
   "cell_type": "markdown",
   "metadata": {},
   "source": [
    "clear method"
   ]
  },
  {
   "cell_type": "code",
   "execution_count": 80,
   "metadata": {},
   "outputs": [
    {
     "name": "stdout",
     "output_type": "stream",
     "text": [
      "{}\n"
     ]
    }
   ],
   "source": [
    "thisdict = {\n",
    "    \"brand\": \"Ford\",\n",
    "    \"model\": \"Mustang\",\n",
    "    \"year\": 1964,\n",
    "}\n",
    "thisdict.clear()\n",
    "print(thisdict)"
   ]
  },
  {
   "cell_type": "markdown",
   "metadata": {},
   "source": [
    "Loop Dictionaries"
   ]
  },
  {
   "cell_type": "code",
   "execution_count": 81,
   "metadata": {},
   "outputs": [
    {
     "name": "stdout",
     "output_type": "stream",
     "text": [
      "brand\n",
      "model\n",
      "year\n"
     ]
    }
   ],
   "source": [
    "thisdict = {\n",
    "    \"brand\": \"Ford\",\n",
    "    \"model\": \"Mustang\",\n",
    "    \"year\": 1964,\n",
    "}\n",
    "\n",
    "for x in thisdict: # print the keys\n",
    "    print(x)"
   ]
  },
  {
   "cell_type": "code",
   "execution_count": 82,
   "metadata": {},
   "outputs": [
    {
     "name": "stdout",
     "output_type": "stream",
     "text": [
      "Ford\n",
      "Mustang\n",
      "1964\n"
     ]
    }
   ],
   "source": [
    "thisdict = {\n",
    "    \"brand\": \"Ford\",\n",
    "    \"model\": \"Mustang\",\n",
    "    \"year\": 1964,\n",
    "}\n",
    "\n",
    "for x in thisdict:\n",
    "    print(thisdict[x]) # print the values"
   ]
  },
  {
   "cell_type": "code",
   "execution_count": 83,
   "metadata": {},
   "outputs": [
    {
     "name": "stdout",
     "output_type": "stream",
     "text": [
      "Ford\n",
      "Mustang\n",
      "1964\n"
     ]
    }
   ],
   "source": [
    "thisdict = {\n",
    "    \"brand\": \"Ford\",\n",
    "    \"model\": \"Mustang\",\n",
    "    \"year\": 1964,\n",
    "}\n",
    "\n",
    "for x in thisdict.values():\n",
    "    print(x) # print the values"
   ]
  },
  {
   "cell_type": "code",
   "execution_count": 84,
   "metadata": {},
   "outputs": [
    {
     "name": "stdout",
     "output_type": "stream",
     "text": [
      "brand\n",
      "model\n",
      "year\n"
     ]
    }
   ],
   "source": [
    "thisdict = {\n",
    "    \"brand\": \"Ford\",\n",
    "    \"model\": \"Mustang\",\n",
    "    \"year\": 1964,\n",
    "}\n",
    "\n",
    "for x in thisdict.keys():\n",
    "    print(x) # print the keys"
   ]
  },
  {
   "cell_type": "code",
   "execution_count": 85,
   "metadata": {},
   "outputs": [
    {
     "name": "stdout",
     "output_type": "stream",
     "text": [
      "brand Ford\n",
      "model Mustang\n",
      "year 1964\n"
     ]
    }
   ],
   "source": [
    "thisdict = {\n",
    "    \"brand\": \"Ford\",\n",
    "    \"model\": \"Mustang\",\n",
    "    \"year\": 1964,\n",
    "}\n",
    "\n",
    "for x, y in thisdict.items():\n",
    "    print(x, y) # print the values"
   ]
  },
  {
   "cell_type": "markdown",
   "metadata": {},
   "source": [
    "Infinite Loop"
   ]
  },
  {
   "cell_type": "code",
   "execution_count": null,
   "metadata": {},
   "outputs": [],
   "source": [
    "# thisdict = {\n",
    "#     \"brand\": \"Ford\",\n",
    "#     \"model\": \"Mustang\",\n",
    "#     \"year\": 1964,\n",
    "# }\n",
    "\n",
    "# while True:\n",
    "#     for x, y in thisdict.item():\n",
    "#         print(x,y) # Will run infinity loop"
   ]
  },
  {
   "cell_type": "code",
   "execution_count": 104,
   "metadata": {},
   "outputs": [
    {
     "name": "stdout",
     "output_type": "stream",
     "text": [
      "{'brand': 'Ford', 'model': 'Mustang', 'year': 1964}\n"
     ]
    }
   ],
   "source": [
    "thisdict = {\n",
    "    \"brand\": \"Ford\",\n",
    "    \"model\": \"Mustang\",\n",
    "    \"year\": 1964,\n",
    "}\n",
    "\n",
    "keys_to_remove = [\"model\", \"brand\"]\n",
    "\n",
    "for key in keys_to_remove:\n",
    "    if key in thisdict:\n",
    "        del thisdict[key]\n",
    "\n",
    "print(thisdict)\n"
   ]
  },
  {
   "cell_type": "markdown",
   "metadata": {},
   "source": [
    "Copy dictionaries"
   ]
  },
  {
   "cell_type": "code",
   "execution_count": 88,
   "metadata": {},
   "outputs": [
    {
     "name": "stdout",
     "output_type": "stream",
     "text": [
      "{'brand': 'Ford', 'model': 'Mustang', 'year': 1964}\n"
     ]
    }
   ],
   "source": [
    "thisdict = {\n",
    "    \"brand\": \"Ford\",\n",
    "    \"model\": \"Mustang\",\n",
    "    \"year\": 1964,\n",
    "}\n",
    "\n",
    "mydict = dict(thisdict)\n",
    "print(mydict)"
   ]
  },
  {
   "cell_type": "code",
   "execution_count": 89,
   "metadata": {},
   "outputs": [
    {
     "name": "stdout",
     "output_type": "stream",
     "text": [
      "{'brand': 'Ford', 'model': 'Mustang', 'year': 1964}\n"
     ]
    }
   ],
   "source": [
    "thisdict = {\n",
    "    \"brand\": \"Ford\",\n",
    "    \"model\": \"Mustang\",\n",
    "    \"year\": 1964,\n",
    "}\n",
    "\n",
    "mydict = thisdict.copy()\n",
    "print(mydict)"
   ]
  },
  {
   "cell_type": "markdown",
   "metadata": {},
   "source": [
    "Nested Dictionaries"
   ]
  },
  {
   "cell_type": "code",
   "execution_count": 90,
   "metadata": {},
   "outputs": [
    {
     "name": "stdout",
     "output_type": "stream",
     "text": [
      "{'child1': {'name': 'Mohammed', 'year': 1993}, 'child2': {'name': 'Abdul Rahman', 'year': 1997}, 'child3': {'name': 'Dolla', 'year': 2006}}\n"
     ]
    }
   ],
   "source": [
    "myfamily = {\n",
    "    \"child1\" : {\n",
    "        \"name\" : \"Mohammed\",\n",
    "        \"year\" : 1993\n",
    "    },\n",
    "    \"child2\" : {\n",
    "        \"name\" : \"Abdul Rahman\",\n",
    "        \"year\" : 1997\n",
    "    },\n",
    "    \"child3\" : {\n",
    "        \"name\" : \"Dolla\",\n",
    "        \"year\" : 2006\n",
    "    }\n",
    "}\n",
    "print(myfamily)"
   ]
  },
  {
   "cell_type": "code",
   "execution_count": 94,
   "metadata": {},
   "outputs": [
    {
     "name": "stdout",
     "output_type": "stream",
     "text": [
      "{'child1': {'name': 'Mohammed', 'year': 1993}, 'child2': {'name': 'Abdul Rahman', 'year': 1997}, 'child3': {'name': 'Dolla', 'year': 2006}}\n"
     ]
    }
   ],
   "source": [
    "child1 = {\n",
    "    \"name\" : \"Mohammed\",\n",
    "    \"year\" : 1993\n",
    "}\n",
    "child2 = {\n",
    "    \"name\" : \"Abdul Rahman\",\n",
    "    \"year\" : 1997\n",
    "}\n",
    "child3 = {\n",
    "    \"name\" : \"Dolla\",\n",
    "    \"year\" : 2006\n",
    "}\n",
    "\n",
    "myfamily = {\n",
    "    \"child1\" : child1,\n",
    "    \"child2\" : child2,\n",
    "    \"child3\" : child3\n",
    "}\n",
    "print(myfamily)"
   ]
  },
  {
   "cell_type": "markdown",
   "metadata": {},
   "source": [
    "Access items in nested dictionary"
   ]
  },
  {
   "cell_type": "code",
   "execution_count": 97,
   "metadata": {},
   "outputs": [
    {
     "name": "stdout",
     "output_type": "stream",
     "text": [
      "Abdul Rahman\n",
      "1997\n",
      "2006\n"
     ]
    }
   ],
   "source": [
    "print(myfamily[\"child2\"][\"name\"])\n",
    "print(myfamily[\"child2\"][\"year\"])\n",
    "print(myfamily[\"child3\"][\"year\"])"
   ]
  },
  {
   "cell_type": "markdown",
   "metadata": {},
   "source": [
    "Dictionary Methods"
   ]
  },
  {
   "cell_type": "code",
   "execution_count": 103,
   "metadata": {},
   "outputs": [
    {
     "name": "stdout",
     "output_type": "stream",
     "text": [
      "Returns a list of all the values in the dictionary\n"
     ]
    }
   ],
   "source": [
    "method_explanations = {\n",
    "    'clear': 'Removes all the elements from the dictionary',\n",
    "    'copy' : 'Returns a copy of the dictionary',\n",
    "    'fromkeys' : 'Returns a dictionary with the specified key and value',\n",
    "    'get' : 'Returns the value of the specified key',\n",
    "    'items' : 'Returns a list containing a tuple for each key-value pair',\n",
    "    'keys' : \"Returns a list containing the dictionary keys\",\n",
    "    'pop' : 'Removes the element with a specified key',\n",
    "    'popitem' : 'Removes the last inserted key-value pair',\n",
    "    'setdefault' : 'Returns the value of the specified key. if the key does not exist, insert the key',\n",
    "    'update' : 'Updates the dictionary with the specified key-value pair',\n",
    "    'values' : 'Returns a list of all the values in the dictionary'\n",
    "}\n",
    "print(method_explanations['values'])"
   ]
  },
  {
   "cell_type": "markdown",
   "metadata": {},
   "source": [
    "# SET"
   ]
  },
  {
   "cell_type": "code",
   "execution_count": 138,
   "metadata": {},
   "outputs": [
    {
     "name": "stdout",
     "output_type": "stream",
     "text": [
      "set()\n"
     ]
    }
   ],
   "source": [
    "mySet = {\"Kedah\", \"Sungai Petani\", \"KISMEC\" }\n",
    "# mySet.remove(\"Kedah\")\n",
    "# mySet.discard(\"KISMEC\")\n",
    "# # mySet.remove(\"Kedah\") # return error if does not exist\n",
    "# mySet.discard(\"KISMEC\") # does not return error\n",
    "# mySet.pop() # delete random item\n",
    "mySet.clear() # delete whole item\n",
    "# del mySet # delete set\n",
    "print(mySet)"
   ]
  },
  {
   "cell_type": "markdown",
   "metadata": {},
   "source": [
    "update set"
   ]
  },
  {
   "cell_type": "code",
   "execution_count": 146,
   "metadata": {},
   "outputs": [
    {
     "name": "stdout",
     "output_type": "stream",
     "text": [
      "{'Kedah', 'Sungai Petani', 'love', 'KISMEC'}\n",
      "{'Kedah', 'Sungai Petani2', 'KISMEC2', 'Kedah2', 'Sungai Petani', 'love', 'KISMEC'}\n"
     ]
    }
   ],
   "source": [
    "mySet = {\"Kedah\", \"Sungai Petani\", \"KISMEC\" }\n",
    "mySet.add(\"love\")\n",
    "print(mySet)\n",
    "\n",
    "mySet2 = {\"Kedah2\", \"Sungai Petani2\", \"KISMEC2\" }\n",
    "\n",
    "mySet.update(mySet2)\n",
    "print(mySet)"
   ]
  },
  {
   "cell_type": "markdown",
   "metadata": {},
   "source": [
    "Join Set"
   ]
  },
  {
   "cell_type": "code",
   "execution_count": 140,
   "metadata": {},
   "outputs": [
    {
     "name": "stdout",
     "output_type": "stream",
     "text": [
      "{'Kedah', 'Sungai Petani2', 'KISMEC2', 'Sungai Petani', 'KISMEC'}\n"
     ]
    }
   ],
   "source": [
    "mySet = {\"Kedah\", \"Sungai Petani\", \"KISMEC\" }\n",
    "mySet2 = {\"Kedah\", \"Sungai Petani2\", \"KISMEC2\" }\n",
    "\n",
    "joinSet = mySet.union(mySet2) # ignore same item\n",
    "print(joinSet)"
   ]
  },
  {
   "cell_type": "markdown",
   "metadata": {},
   "source": [
    "Display item"
   ]
  },
  {
   "cell_type": "code",
   "execution_count": 141,
   "metadata": {},
   "outputs": [
    {
     "name": "stdout",
     "output_type": "stream",
     "text": [
      "{'Kedah', 'Sungai Petani2', 'KISMEC2', 'Sungai Petani', 'KISMEC'}\n"
     ]
    }
   ],
   "source": [
    "mySet = {\"Kedah\", \"Sungai Petani\", \"KISMEC\" }\n",
    "mySet2 = {\"Kedah\", \"Sungai Petani2\", \"KISMEC2\" }\n",
    "\n",
    "# ignore same item\n",
    "mySet.update(mySet2) \n",
    "print(mySet)"
   ]
  },
  {
   "cell_type": "code",
   "execution_count": 149,
   "metadata": {},
   "outputs": [
    {
     "name": "stdout",
     "output_type": "stream",
     "text": [
      "{'Sungai Petani', 'KISMEC2', 'Sungai Petani2', 'KISMEC'}\n"
     ]
    }
   ],
   "source": [
    "mySet = {\"Kedah\", \"Sungai Petani\", \"KISMEC\" }\n",
    "mySet2 = {\"Kedah\", \"Sungai Petani2\", \"KISMEC2\" }\n",
    "\n",
    "# ignore same item\n",
    "# mySet.intersection_update(mySet2) # print the same item\n",
    "# mySet.symmetric_difference_update(mySet2) # exclude same item\n",
    "new = mySet.symmetric_difference(mySet2) # exclude same item\n",
    "\n",
    "\n",
    "print(new)"
   ]
  },
  {
   "cell_type": "code",
   "execution_count": 148,
   "metadata": {},
   "outputs": [
    {
     "name": "stdout",
     "output_type": "stream",
     "text": [
      "True\n"
     ]
    }
   ],
   "source": [
    "mySet = {\"Kedah\", \"Sungai Petani\", \"KISMEC\", True }\n",
    "mySet2 = {\"Kedah\", \"Sungai Petani2\", \"KISMEC2\", 1, \"Sungai Petani\", \"KISMEC\", True }\n",
    "\n",
    "new = mySet.issubset(mySet2)\n",
    "\n",
    "print(new)"
   ]
  },
  {
   "cell_type": "markdown",
   "metadata": {},
   "source": [
    "# PANDA"
   ]
  },
  {
   "cell_type": "markdown",
   "metadata": {},
   "source": [
    "Checking Panda Version"
   ]
  },
  {
   "cell_type": "code",
   "execution_count": 126,
   "metadata": {},
   "outputs": [
    {
     "name": "stdout",
     "output_type": "stream",
     "text": [
      "2.1.4\n"
     ]
    }
   ],
   "source": [
    "import pandas as pd\n",
    "print(pd.__version__)"
   ]
  },
  {
   "cell_type": "markdown",
   "metadata": {},
   "source": [
    "Create an empty data frame"
   ]
  },
  {
   "cell_type": "code",
   "execution_count": 127,
   "metadata": {},
   "outputs": [
    {
     "name": "stdout",
     "output_type": "stream",
     "text": [
      "Empty DataFrame\n",
      "Columns: []\n",
      "Index: []\n"
     ]
    }
   ],
   "source": [
    "df = pd.DataFrame()\n",
    "\n",
    "print(df)"
   ]
  },
  {
   "cell_type": "code",
   "execution_count": 128,
   "metadata": {},
   "outputs": [
    {
     "name": "stdout",
     "output_type": "stream",
     "text": [
      "                         Industry\n",
      "0              Accounting/Finance\n",
      "1    Advertising/Public Relations\n",
      "2              Aerospace/Aviation\n",
      "3   Arts/Entertainment/Publishing\n",
      "4                      Automotive\n",
      "5                Banking/Mortgage\n",
      "6            Business Development\n",
      "7            Business Opportunity\n",
      "8         Clerical/Administrative\n",
      "9         Construction/Facilities\n",
      "10                 Consumer Goods\n",
      "11               Customer Service\n",
      "12             Education/Training\n",
      "13               Energy/Utilities\n",
      "14                    Engineering\n",
      "15            Government/Military\n",
      "16                          Green\n",
      "17                     Healthcare\n",
      "18             Hospitality/Travel\n",
      "19                Human Resources\n",
      "20       Installation/Maintenance\n",
      "21                      Insurance\n",
      "22                       Internet\n",
      "23                Job Search Aids\n",
      "24       Law Enforcement/Security\n",
      "25                          Legal\n",
      "26           Management/Executive\n",
      "27       Manufacturing/Operations\n",
      "28                      Marketing\n",
      "29           Non-Profit/Volunteer\n",
      "30         Pharmaceutical/Biotech\n",
      "31          Professional Services\n",
      "32             QA/Quality Control\n",
      "33                    Real Estate\n",
      "34        Restaurant/Food Service\n",
      "35                         Retail\n",
      "36                          Sales\n",
      "37               Science/Research\n",
      "38                  Skilled Labor\n",
      "39                     Technology\n",
      "40             Telecommunications\n",
      "41       Transportation/Logistics\n",
      "42                          Other\n"
     ]
    }
   ],
   "source": [
    "df = pd.read_csv('industry.csv')\n",
    "\n",
    "print(df)"
   ]
  },
  {
   "cell_type": "code",
   "execution_count": null,
   "metadata": {},
   "outputs": [],
   "source": []
  }
 ],
 "metadata": {
  "kernelspec": {
   "display_name": "Python 3",
   "language": "python",
   "name": "python3"
  },
  "language_info": {
   "codemirror_mode": {
    "name": "ipython",
    "version": 3
   },
   "file_extension": ".py",
   "mimetype": "text/x-python",
   "name": "python",
   "nbconvert_exporter": "python",
   "pygments_lexer": "ipython3",
   "version": "3.9.13"
  }
 },
 "nbformat": 4,
 "nbformat_minor": 2
}
